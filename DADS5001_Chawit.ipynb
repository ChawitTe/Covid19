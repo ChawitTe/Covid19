{
  "cells": [
    {
      "cell_type": "markdown",
      "metadata": {
        "id": "view-in-github",
        "colab_type": "text"
      },
      "source": [
        "<a href=\"https://colab.research.google.com/github/ChawitTe/Covid19/blob/main/DADS5001_Chawit.ipynb\" target=\"_parent\"><img src=\"https://colab.research.google.com/assets/colab-badge.svg\" alt=\"Open In Colab\"/></a>"
      ]
    },
    {
      "cell_type": "markdown",
      "metadata": {
        "id": "dsBpsaONsg0z"
      },
      "source": [
        "# Import the necessary libraries"
      ]
    },
    {
      "cell_type": "code",
      "execution_count": null,
      "metadata": {
        "id": "2MMYQ7y-s1jU"
      },
      "outputs": [],
      "source": [
        "# เรียกใช้ libraries ที่จำเป็นในการทำงาน\n",
        "import pandas as pd\n",
        "import matplotlib.pyplot as plt"
      ]
    },
    {
      "cell_type": "code",
      "source": [
        "import matplotlib as mpl # เพิ่ม font เพื่อให้สามารถสร้างกราฟเป็นภาษาไทย\n",
        "!wget -q https://github.com/Phonbopit/sarabun-webfont/raw/master/fonts/thsarabunnew-webfont.ttf\n",
        "mpl.font_manager.fontManager.addfont('thsarabunnew-webfont.ttf')\n",
        "mpl.rc('font', family='TH Sarabun New')"
      ],
      "metadata": {
        "id": "tMiFA1zTIshs"
      },
      "execution_count": null,
      "outputs": []
    },
    {
      "cell_type": "markdown",
      "metadata": {
        "id": "hGEG0MkYs-wG"
      },
      "source": [
        "# Import the dataset and assign it to a variable called df.\n",
        "ข้อมูล covid19 ตั้งแต่วันที่ 26/10/2021 ถึง 11/02/2022 ทำการ clean data ด้วย open refine และ excel\n",
        "\n",
        "ข้อมูลจาก กรมควบคุมโรค  https://data.go.th/dataset/covid-19-daily"
      ]
    },
    {
      "cell_type": "code",
      "execution_count": null,
      "metadata": {
        "colab": {
          "base_uri": "https://localhost:8080/",
          "height": 206
        },
        "id": "jZaCVPxrs4k9",
        "outputId": "a2f94619-4770-4cb1-c679-5859b4a0d184"
      },
      "outputs": [
        {
          "output_type": "execute_result",
          "data": {
            "text/plain": [
              "       No. announce_date Notified date   sex age Unit nationality  \\\n",
              "0  1859158    2021-10-26    2021-10-25   ชาย  20   ปี    Thailand   \n",
              "1  1859159    2021-10-26    2021-10-25  หญิง  42   ปี    Thailand   \n",
              "2  1859160    2021-10-26    2021-10-25  หญิง  33   ปี    Thailand   \n",
              "3  1859161    2021-10-26    2021-10-25  หญิง  52   ปี    Thailand   \n",
              "4  1859162    2021-10-26    2021-10-25  หญิง  84   ปี    Thailand   \n",
              "\n",
              "  province_of_isolation                                           risk  \\\n",
              "0                 ลำปาง                                          อื่นๆ   \n",
              "1                 ลำปาง                                          อื่นๆ   \n",
              "2                 ลำปาง  ไปสถานที่ชุมชน เช่น ตลาดนัด สถานที่ท่องเที่ยว   \n",
              "3                 ลำปาง  ไปสถานที่ชุมชน เช่น ตลาดนัด สถานที่ท่องเที่ยว   \n",
              "4                 ลำปาง    สัมผัสใกล้ชิดกับผู้ป่วยยืนยันรายก่อนหน้านี้   \n",
              "\n",
              "  province_of_onset district_of_onset  \n",
              "0             ลำปาง        เมืองลำปาง  \n",
              "1             ลำปาง        เมืองลำปาง  \n",
              "2             ลำปาง          ห้างฉัตร  \n",
              "3             ลำปาง          ห้างฉัตร  \n",
              "4             ลำปาง        เมืองลำปาง  "
            ],
            "text/html": [
              "\n",
              "  <div id=\"df-8dc779e1-3d8c-4495-aed6-9f96bc914a44\">\n",
              "    <div class=\"colab-df-container\">\n",
              "      <div>\n",
              "<style scoped>\n",
              "    .dataframe tbody tr th:only-of-type {\n",
              "        vertical-align: middle;\n",
              "    }\n",
              "\n",
              "    .dataframe tbody tr th {\n",
              "        vertical-align: top;\n",
              "    }\n",
              "\n",
              "    .dataframe thead th {\n",
              "        text-align: right;\n",
              "    }\n",
              "</style>\n",
              "<table border=\"1\" class=\"dataframe\">\n",
              "  <thead>\n",
              "    <tr style=\"text-align: right;\">\n",
              "      <th></th>\n",
              "      <th>No.</th>\n",
              "      <th>announce_date</th>\n",
              "      <th>Notified date</th>\n",
              "      <th>sex</th>\n",
              "      <th>age</th>\n",
              "      <th>Unit</th>\n",
              "      <th>nationality</th>\n",
              "      <th>province_of_isolation</th>\n",
              "      <th>risk</th>\n",
              "      <th>province_of_onset</th>\n",
              "      <th>district_of_onset</th>\n",
              "    </tr>\n",
              "  </thead>\n",
              "  <tbody>\n",
              "    <tr>\n",
              "      <th>0</th>\n",
              "      <td>1859158</td>\n",
              "      <td>2021-10-26</td>\n",
              "      <td>2021-10-25</td>\n",
              "      <td>ชาย</td>\n",
              "      <td>20</td>\n",
              "      <td>ปี</td>\n",
              "      <td>Thailand</td>\n",
              "      <td>ลำปาง</td>\n",
              "      <td>อื่นๆ</td>\n",
              "      <td>ลำปาง</td>\n",
              "      <td>เมืองลำปาง</td>\n",
              "    </tr>\n",
              "    <tr>\n",
              "      <th>1</th>\n",
              "      <td>1859159</td>\n",
              "      <td>2021-10-26</td>\n",
              "      <td>2021-10-25</td>\n",
              "      <td>หญิง</td>\n",
              "      <td>42</td>\n",
              "      <td>ปี</td>\n",
              "      <td>Thailand</td>\n",
              "      <td>ลำปาง</td>\n",
              "      <td>อื่นๆ</td>\n",
              "      <td>ลำปาง</td>\n",
              "      <td>เมืองลำปาง</td>\n",
              "    </tr>\n",
              "    <tr>\n",
              "      <th>2</th>\n",
              "      <td>1859160</td>\n",
              "      <td>2021-10-26</td>\n",
              "      <td>2021-10-25</td>\n",
              "      <td>หญิง</td>\n",
              "      <td>33</td>\n",
              "      <td>ปี</td>\n",
              "      <td>Thailand</td>\n",
              "      <td>ลำปาง</td>\n",
              "      <td>ไปสถานที่ชุมชน เช่น ตลาดนัด สถานที่ท่องเที่ยว</td>\n",
              "      <td>ลำปาง</td>\n",
              "      <td>ห้างฉัตร</td>\n",
              "    </tr>\n",
              "    <tr>\n",
              "      <th>3</th>\n",
              "      <td>1859161</td>\n",
              "      <td>2021-10-26</td>\n",
              "      <td>2021-10-25</td>\n",
              "      <td>หญิง</td>\n",
              "      <td>52</td>\n",
              "      <td>ปี</td>\n",
              "      <td>Thailand</td>\n",
              "      <td>ลำปาง</td>\n",
              "      <td>ไปสถานที่ชุมชน เช่น ตลาดนัด สถานที่ท่องเที่ยว</td>\n",
              "      <td>ลำปาง</td>\n",
              "      <td>ห้างฉัตร</td>\n",
              "    </tr>\n",
              "    <tr>\n",
              "      <th>4</th>\n",
              "      <td>1859162</td>\n",
              "      <td>2021-10-26</td>\n",
              "      <td>2021-10-25</td>\n",
              "      <td>หญิง</td>\n",
              "      <td>84</td>\n",
              "      <td>ปี</td>\n",
              "      <td>Thailand</td>\n",
              "      <td>ลำปาง</td>\n",
              "      <td>สัมผัสใกล้ชิดกับผู้ป่วยยืนยันรายก่อนหน้านี้</td>\n",
              "      <td>ลำปาง</td>\n",
              "      <td>เมืองลำปาง</td>\n",
              "    </tr>\n",
              "  </tbody>\n",
              "</table>\n",
              "</div>\n",
              "      <button class=\"colab-df-convert\" onclick=\"convertToInteractive('df-8dc779e1-3d8c-4495-aed6-9f96bc914a44')\"\n",
              "              title=\"Convert this dataframe to an interactive table.\"\n",
              "              style=\"display:none;\">\n",
              "        \n",
              "  <svg xmlns=\"http://www.w3.org/2000/svg\" height=\"24px\"viewBox=\"0 0 24 24\"\n",
              "       width=\"24px\">\n",
              "    <path d=\"M0 0h24v24H0V0z\" fill=\"none\"/>\n",
              "    <path d=\"M18.56 5.44l.94 2.06.94-2.06 2.06-.94-2.06-.94-.94-2.06-.94 2.06-2.06.94zm-11 1L8.5 8.5l.94-2.06 2.06-.94-2.06-.94L8.5 2.5l-.94 2.06-2.06.94zm10 10l.94 2.06.94-2.06 2.06-.94-2.06-.94-.94-2.06-.94 2.06-2.06.94z\"/><path d=\"M17.41 7.96l-1.37-1.37c-.4-.4-.92-.59-1.43-.59-.52 0-1.04.2-1.43.59L10.3 9.45l-7.72 7.72c-.78.78-.78 2.05 0 2.83L4 21.41c.39.39.9.59 1.41.59.51 0 1.02-.2 1.41-.59l7.78-7.78 2.81-2.81c.8-.78.8-2.07 0-2.86zM5.41 20L4 18.59l7.72-7.72 1.47 1.35L5.41 20z\"/>\n",
              "  </svg>\n",
              "      </button>\n",
              "      \n",
              "  <style>\n",
              "    .colab-df-container {\n",
              "      display:flex;\n",
              "      flex-wrap:wrap;\n",
              "      gap: 12px;\n",
              "    }\n",
              "\n",
              "    .colab-df-convert {\n",
              "      background-color: #E8F0FE;\n",
              "      border: none;\n",
              "      border-radius: 50%;\n",
              "      cursor: pointer;\n",
              "      display: none;\n",
              "      fill: #1967D2;\n",
              "      height: 32px;\n",
              "      padding: 0 0 0 0;\n",
              "      width: 32px;\n",
              "    }\n",
              "\n",
              "    .colab-df-convert:hover {\n",
              "      background-color: #E2EBFA;\n",
              "      box-shadow: 0px 1px 2px rgba(60, 64, 67, 0.3), 0px 1px 3px 1px rgba(60, 64, 67, 0.15);\n",
              "      fill: #174EA6;\n",
              "    }\n",
              "\n",
              "    [theme=dark] .colab-df-convert {\n",
              "      background-color: #3B4455;\n",
              "      fill: #D2E3FC;\n",
              "    }\n",
              "\n",
              "    [theme=dark] .colab-df-convert:hover {\n",
              "      background-color: #434B5C;\n",
              "      box-shadow: 0px 1px 3px 1px rgba(0, 0, 0, 0.15);\n",
              "      filter: drop-shadow(0px 1px 2px rgba(0, 0, 0, 0.3));\n",
              "      fill: #FFFFFF;\n",
              "    }\n",
              "  </style>\n",
              "\n",
              "      <script>\n",
              "        const buttonEl =\n",
              "          document.querySelector('#df-8dc779e1-3d8c-4495-aed6-9f96bc914a44 button.colab-df-convert');\n",
              "        buttonEl.style.display =\n",
              "          google.colab.kernel.accessAllowed ? 'block' : 'none';\n",
              "\n",
              "        async function convertToInteractive(key) {\n",
              "          const element = document.querySelector('#df-8dc779e1-3d8c-4495-aed6-9f96bc914a44');\n",
              "          const dataTable =\n",
              "            await google.colab.kernel.invokeFunction('convertToInteractive',\n",
              "                                                     [key], {});\n",
              "          if (!dataTable) return;\n",
              "\n",
              "          const docLinkHtml = 'Like what you see? Visit the ' +\n",
              "            '<a target=\"_blank\" href=https://colab.research.google.com/notebooks/data_table.ipynb>data table notebook</a>'\n",
              "            + ' to learn more about interactive tables.';\n",
              "          element.innerHTML = '';\n",
              "          dataTable['output_type'] = 'display_data';\n",
              "          await google.colab.output.renderOutput(dataTable, element);\n",
              "          const docLink = document.createElement('div');\n",
              "          docLink.innerHTML = docLinkHtml;\n",
              "          element.appendChild(docLink);\n",
              "        }\n",
              "      </script>\n",
              "    </div>\n",
              "  </div>\n",
              "  "
            ]
          },
          "metadata": {},
          "execution_count": 3
        }
      ],
      "source": [
        "df = pd.read_csv('/content/confirmed-cases-since-271064.csv', low_memory=False, encoding='UTF-8')\n",
        "df.head()"
      ]
    },
    {
      "cell_type": "markdown",
      "metadata": {
        "id": "THYyky0EtcdT"
      },
      "source": [
        "# What is the type and shape of the columns?"
      ]
    },
    {
      "cell_type": "code",
      "execution_count": null,
      "metadata": {
        "colab": {
          "base_uri": "https://localhost:8080/"
        },
        "id": "ToqStN_-xvhy",
        "outputId": "d44cdf20-2435-4ec8-a314-246402e8227a"
      },
      "outputs": [
        {
          "output_type": "stream",
          "name": "stdout",
          "text": [
            "<class 'pandas.core.frame.DataFrame'>\n",
            "RangeIndex: 701958 entries, 0 to 701957\n",
            "Data columns (total 11 columns):\n",
            " #   Column                 Non-Null Count   Dtype \n",
            "---  ------                 --------------   ----- \n",
            " 0   No.                    701958 non-null  int64 \n",
            " 1   announce_date          701958 non-null  object\n",
            " 2   Notified date          701958 non-null  object\n",
            " 3   sex                    660140 non-null  object\n",
            " 4   age                    635256 non-null  object\n",
            " 5   Unit                   612751 non-null  object\n",
            " 6   nationality            632706 non-null  object\n",
            " 7   province_of_isolation  698274 non-null  object\n",
            " 8   risk                   701958 non-null  object\n",
            " 9   province_of_onset      634718 non-null  object\n",
            " 10  district_of_onset      605269 non-null  object\n",
            "dtypes: int64(1), object(10)\n",
            "memory usage: 58.9+ MB\n",
            "None\n",
            "(701958, 11)\n"
          ]
        }
      ],
      "source": [
        "print(df.info())\n",
        "print(df.shape)"
      ]
    },
    {
      "cell_type": "markdown",
      "metadata": {
        "id": "axEZjnmX1TwM"
      },
      "source": [
        "# Rename columns Unit and Notified date\n",
        "\n"
      ]
    },
    {
      "cell_type": "code",
      "execution_count": null,
      "metadata": {
        "colab": {
          "base_uri": "https://localhost:8080/",
          "height": 143
        },
        "id": "9hljnppt1hCF",
        "outputId": "b8b91002-d8b0-4116-889f-146992381dea"
      },
      "outputs": [
        {
          "output_type": "execute_result",
          "data": {
            "text/plain": [
              "       No. announce_date notified_date   sex age unit nationality  \\\n",
              "0  1859158    2021-10-26    2021-10-25   ชาย  20   ปี    Thailand   \n",
              "1  1859159    2021-10-26    2021-10-25  หญิง  42   ปี    Thailand   \n",
              "2  1859160    2021-10-26    2021-10-25  หญิง  33   ปี    Thailand   \n",
              "\n",
              "  province_of_isolation                                           risk  \\\n",
              "0                 ลำปาง                                          อื่นๆ   \n",
              "1                 ลำปาง                                          อื่นๆ   \n",
              "2                 ลำปาง  ไปสถานที่ชุมชน เช่น ตลาดนัด สถานที่ท่องเที่ยว   \n",
              "\n",
              "  province_of_onset district_of_onset  \n",
              "0             ลำปาง        เมืองลำปาง  \n",
              "1             ลำปาง        เมืองลำปาง  \n",
              "2             ลำปาง          ห้างฉัตร  "
            ],
            "text/html": [
              "\n",
              "  <div id=\"df-17e462d0-399c-42b3-a789-cdbb6447a51a\">\n",
              "    <div class=\"colab-df-container\">\n",
              "      <div>\n",
              "<style scoped>\n",
              "    .dataframe tbody tr th:only-of-type {\n",
              "        vertical-align: middle;\n",
              "    }\n",
              "\n",
              "    .dataframe tbody tr th {\n",
              "        vertical-align: top;\n",
              "    }\n",
              "\n",
              "    .dataframe thead th {\n",
              "        text-align: right;\n",
              "    }\n",
              "</style>\n",
              "<table border=\"1\" class=\"dataframe\">\n",
              "  <thead>\n",
              "    <tr style=\"text-align: right;\">\n",
              "      <th></th>\n",
              "      <th>No.</th>\n",
              "      <th>announce_date</th>\n",
              "      <th>notified_date</th>\n",
              "      <th>sex</th>\n",
              "      <th>age</th>\n",
              "      <th>unit</th>\n",
              "      <th>nationality</th>\n",
              "      <th>province_of_isolation</th>\n",
              "      <th>risk</th>\n",
              "      <th>province_of_onset</th>\n",
              "      <th>district_of_onset</th>\n",
              "    </tr>\n",
              "  </thead>\n",
              "  <tbody>\n",
              "    <tr>\n",
              "      <th>0</th>\n",
              "      <td>1859158</td>\n",
              "      <td>2021-10-26</td>\n",
              "      <td>2021-10-25</td>\n",
              "      <td>ชาย</td>\n",
              "      <td>20</td>\n",
              "      <td>ปี</td>\n",
              "      <td>Thailand</td>\n",
              "      <td>ลำปาง</td>\n",
              "      <td>อื่นๆ</td>\n",
              "      <td>ลำปาง</td>\n",
              "      <td>เมืองลำปาง</td>\n",
              "    </tr>\n",
              "    <tr>\n",
              "      <th>1</th>\n",
              "      <td>1859159</td>\n",
              "      <td>2021-10-26</td>\n",
              "      <td>2021-10-25</td>\n",
              "      <td>หญิง</td>\n",
              "      <td>42</td>\n",
              "      <td>ปี</td>\n",
              "      <td>Thailand</td>\n",
              "      <td>ลำปาง</td>\n",
              "      <td>อื่นๆ</td>\n",
              "      <td>ลำปาง</td>\n",
              "      <td>เมืองลำปาง</td>\n",
              "    </tr>\n",
              "    <tr>\n",
              "      <th>2</th>\n",
              "      <td>1859160</td>\n",
              "      <td>2021-10-26</td>\n",
              "      <td>2021-10-25</td>\n",
              "      <td>หญิง</td>\n",
              "      <td>33</td>\n",
              "      <td>ปี</td>\n",
              "      <td>Thailand</td>\n",
              "      <td>ลำปาง</td>\n",
              "      <td>ไปสถานที่ชุมชน เช่น ตลาดนัด สถานที่ท่องเที่ยว</td>\n",
              "      <td>ลำปาง</td>\n",
              "      <td>ห้างฉัตร</td>\n",
              "    </tr>\n",
              "  </tbody>\n",
              "</table>\n",
              "</div>\n",
              "      <button class=\"colab-df-convert\" onclick=\"convertToInteractive('df-17e462d0-399c-42b3-a789-cdbb6447a51a')\"\n",
              "              title=\"Convert this dataframe to an interactive table.\"\n",
              "              style=\"display:none;\">\n",
              "        \n",
              "  <svg xmlns=\"http://www.w3.org/2000/svg\" height=\"24px\"viewBox=\"0 0 24 24\"\n",
              "       width=\"24px\">\n",
              "    <path d=\"M0 0h24v24H0V0z\" fill=\"none\"/>\n",
              "    <path d=\"M18.56 5.44l.94 2.06.94-2.06 2.06-.94-2.06-.94-.94-2.06-.94 2.06-2.06.94zm-11 1L8.5 8.5l.94-2.06 2.06-.94-2.06-.94L8.5 2.5l-.94 2.06-2.06.94zm10 10l.94 2.06.94-2.06 2.06-.94-2.06-.94-.94-2.06-.94 2.06-2.06.94z\"/><path d=\"M17.41 7.96l-1.37-1.37c-.4-.4-.92-.59-1.43-.59-.52 0-1.04.2-1.43.59L10.3 9.45l-7.72 7.72c-.78.78-.78 2.05 0 2.83L4 21.41c.39.39.9.59 1.41.59.51 0 1.02-.2 1.41-.59l7.78-7.78 2.81-2.81c.8-.78.8-2.07 0-2.86zM5.41 20L4 18.59l7.72-7.72 1.47 1.35L5.41 20z\"/>\n",
              "  </svg>\n",
              "      </button>\n",
              "      \n",
              "  <style>\n",
              "    .colab-df-container {\n",
              "      display:flex;\n",
              "      flex-wrap:wrap;\n",
              "      gap: 12px;\n",
              "    }\n",
              "\n",
              "    .colab-df-convert {\n",
              "      background-color: #E8F0FE;\n",
              "      border: none;\n",
              "      border-radius: 50%;\n",
              "      cursor: pointer;\n",
              "      display: none;\n",
              "      fill: #1967D2;\n",
              "      height: 32px;\n",
              "      padding: 0 0 0 0;\n",
              "      width: 32px;\n",
              "    }\n",
              "\n",
              "    .colab-df-convert:hover {\n",
              "      background-color: #E2EBFA;\n",
              "      box-shadow: 0px 1px 2px rgba(60, 64, 67, 0.3), 0px 1px 3px 1px rgba(60, 64, 67, 0.15);\n",
              "      fill: #174EA6;\n",
              "    }\n",
              "\n",
              "    [theme=dark] .colab-df-convert {\n",
              "      background-color: #3B4455;\n",
              "      fill: #D2E3FC;\n",
              "    }\n",
              "\n",
              "    [theme=dark] .colab-df-convert:hover {\n",
              "      background-color: #434B5C;\n",
              "      box-shadow: 0px 1px 3px 1px rgba(0, 0, 0, 0.15);\n",
              "      filter: drop-shadow(0px 1px 2px rgba(0, 0, 0, 0.3));\n",
              "      fill: #FFFFFF;\n",
              "    }\n",
              "  </style>\n",
              "\n",
              "      <script>\n",
              "        const buttonEl =\n",
              "          document.querySelector('#df-17e462d0-399c-42b3-a789-cdbb6447a51a button.colab-df-convert');\n",
              "        buttonEl.style.display =\n",
              "          google.colab.kernel.accessAllowed ? 'block' : 'none';\n",
              "\n",
              "        async function convertToInteractive(key) {\n",
              "          const element = document.querySelector('#df-17e462d0-399c-42b3-a789-cdbb6447a51a');\n",
              "          const dataTable =\n",
              "            await google.colab.kernel.invokeFunction('convertToInteractive',\n",
              "                                                     [key], {});\n",
              "          if (!dataTable) return;\n",
              "\n",
              "          const docLinkHtml = 'Like what you see? Visit the ' +\n",
              "            '<a target=\"_blank\" href=https://colab.research.google.com/notebooks/data_table.ipynb>data table notebook</a>'\n",
              "            + ' to learn more about interactive tables.';\n",
              "          element.innerHTML = '';\n",
              "          dataTable['output_type'] = 'display_data';\n",
              "          await google.colab.output.renderOutput(dataTable, element);\n",
              "          const docLink = document.createElement('div');\n",
              "          docLink.innerHTML = docLinkHtml;\n",
              "          element.appendChild(docLink);\n",
              "        }\n",
              "      </script>\n",
              "    </div>\n",
              "  </div>\n",
              "  "
            ]
          },
          "metadata": {},
          "execution_count": 5
        }
      ],
      "source": [
        "df.rename(columns={'Notified date':'notified_date'},inplace=True)\n",
        "df.rename(columns={'Unit':'unit'},inplace=True)\n",
        "df.head(3)"
      ]
    },
    {
      "cell_type": "markdown",
      "metadata": {
        "id": "3oQEe_eUx56z"
      },
      "source": [
        "# Convert the type of the column(announce_date, notified_date)  to datetime64"
      ]
    },
    {
      "cell_type": "code",
      "execution_count": null,
      "metadata": {
        "colab": {
          "base_uri": "https://localhost:8080/"
        },
        "id": "nYC77nNnx5Ll",
        "outputId": "e403ce8a-fed5-43ac-e7cb-7cb83f609140"
      },
      "outputs": [
        {
          "output_type": "stream",
          "name": "stdout",
          "text": [
            "<class 'pandas.core.frame.DataFrame'>\n",
            "RangeIndex: 701958 entries, 0 to 701957\n",
            "Data columns (total 11 columns):\n",
            " #   Column                 Non-Null Count   Dtype         \n",
            "---  ------                 --------------   -----         \n",
            " 0   No.                    701958 non-null  int64         \n",
            " 1   announce_date          701958 non-null  datetime64[ns]\n",
            " 2   notified_date          701958 non-null  datetime64[ns]\n",
            " 3   sex                    660140 non-null  object        \n",
            " 4   age                    635256 non-null  object        \n",
            " 5   unit                   612751 non-null  object        \n",
            " 6   nationality            632706 non-null  object        \n",
            " 7   province_of_isolation  698274 non-null  object        \n",
            " 8   risk                   701958 non-null  object        \n",
            " 9   province_of_onset      634718 non-null  object        \n",
            " 10  district_of_onset      605269 non-null  object        \n",
            "dtypes: datetime64[ns](2), int64(1), object(8)\n",
            "memory usage: 58.9+ MB\n"
          ]
        }
      ],
      "source": [
        "df['announce_date'] = pd.to_datetime(df.announce_date)\n",
        "df['notified_date'] = pd.to_datetime(df.notified_date)\n",
        "df.info()"
      ]
    },
    {
      "cell_type": "markdown",
      "metadata": {
        "id": "_M6Ct6Kz32R2"
      },
      "source": [
        "# Check missing value"
      ]
    },
    {
      "cell_type": "code",
      "execution_count": null,
      "metadata": {
        "colab": {
          "base_uri": "https://localhost:8080/"
        },
        "id": "PkyRz_Gr31-b",
        "outputId": "b3d01225-64a4-4582-a672-7e4f1092baf6"
      },
      "outputs": [
        {
          "output_type": "execute_result",
          "data": {
            "text/plain": [
              "No.                          0\n",
              "announce_date                0\n",
              "notified_date                0\n",
              "sex                      41818\n",
              "age                      66702\n",
              "unit                     89207\n",
              "nationality              69252\n",
              "province_of_isolation     3684\n",
              "risk                         0\n",
              "province_of_onset        67240\n",
              "district_of_onset        96689\n",
              "dtype: int64"
            ]
          },
          "metadata": {},
          "execution_count": 7
        }
      ],
      "source": [
        "df.isnull().sum()"
      ]
    },
    {
      "cell_type": "markdown",
      "metadata": {
        "id": "wivp9KZt4Rei"
      },
      "source": [
        "# Percentage of missing values"
      ]
    },
    {
      "cell_type": "code",
      "execution_count": null,
      "metadata": {
        "colab": {
          "base_uri": "https://localhost:8080/"
        },
        "id": "O8GQ7QB24TTC",
        "outputId": "2b5003ee-9c1f-446b-e45c-da911b2152d6"
      },
      "outputs": [
        {
          "output_type": "stream",
          "name": "stdout",
          "text": [
            "Percent of missing \"sex\" records is 5.96%\n",
            "Percent of missing \"age\" records is 9.50%\n",
            "Percent of missing \"unit\" records is 12.71%\n",
            "Percent of missing \"nationality\" records is 9.87%\n",
            "Percent of missing \"province_of_isolation\" records is 0.52%\n",
            "Percent of missing \"province_of_onset\" records is 9.58%\n",
            "Percent of missing \"district_of_onset\" records is 13.77%\n"
          ]
        }
      ],
      "source": [
        "print('Percent of missing \"sex\" records is %.2f%%' %((df['sex'].isnull().sum()/df.shape[0])*100))\n",
        "print('Percent of missing \"age\" records is %.2f%%' %((df['age'].isnull().sum()/df.shape[0])*100))\n",
        "print('Percent of missing \"unit\" records is %.2f%%' %((df['unit'].isnull().sum()/df.shape[0])*100))\n",
        "print('Percent of missing \"nationality\" records is %.2f%%' %((df['nationality'].isnull().sum()/df.shape[0])*100))\n",
        "print('Percent of missing \"province_of_isolation\" records is %.2f%%' %((df['province_of_isolation'].isnull().sum()/df.shape[0])*100))\n",
        "print('Percent of missing \"province_of_onset\" records is %.2f%%' %((df['province_of_onset'].isnull().sum()/df.shape[0])*100))\n",
        "print('Percent of missing \"district_of_onset\" records is %.2f%%' %((df['district_of_onset'].isnull().sum()/df.shape[0])*100))"
      ]
    },
    {
      "cell_type": "markdown",
      "metadata": {
        "id": "wc3_GJkJXaQf"
      },
      "source": [
        "# Final Adjustments to Data"
      ]
    },
    {
      "cell_type": "code",
      "execution_count": null,
      "metadata": {
        "colab": {
          "base_uri": "https://localhost:8080/"
        },
        "id": "r1Oab2O5Xc8g",
        "outputId": "dff784b5-120b-4752-a349-c80a9a1be8cb"
      },
      "outputs": [
        {
          "output_type": "stream",
          "name": "stdout",
          "text": [
            "<class 'pandas.core.frame.DataFrame'>\n",
            "RangeIndex: 701958 entries, 0 to 701957\n",
            "Data columns (total 11 columns):\n",
            " #   Column                 Non-Null Count   Dtype         \n",
            "---  ------                 --------------   -----         \n",
            " 0   No.                    701958 non-null  int64         \n",
            " 1   announce_date          701958 non-null  datetime64[ns]\n",
            " 2   notified_date          701958 non-null  datetime64[ns]\n",
            " 3   sex                    701958 non-null  object        \n",
            " 4   age                    701958 non-null  int64         \n",
            " 5   unit                   701958 non-null  object        \n",
            " 6   nationality            701958 non-null  object        \n",
            " 7   province_of_isolation  701958 non-null  object        \n",
            " 8   risk                   701958 non-null  object        \n",
            " 9   province_of_onset      701958 non-null  object        \n",
            " 10  district_of_onset      701958 non-null  object        \n",
            "dtypes: datetime64[ns](2), int64(2), object(7)\n",
            "memory usage: 58.9+ MB\n"
          ]
        }
      ],
      "source": [
        "df['age'].fillna(0, inplace=True)\n",
        "df['age'] = df['age'].astype(int)\n",
        "df['sex'].fillna('ไม่ระบุ', inplace=True)\n",
        "df['unit'].fillna('ไม่ระบุ', inplace=True)\n",
        "df['nationality'].fillna('ไม่ระบุ', inplace=True)\n",
        "df['province_of_isolation'].fillna('ไม่ระบุ', inplace=True)\n",
        "df['risk'].fillna('ไม่ระบุ', inplace=True)\n",
        "df['province_of_onset'].fillna('ไม่ระบุ', inplace=True)\n",
        "df['district_of_onset'].fillna('ไม่ระบุ', inplace=True)\n",
        "df.info()"
      ]
    },
    {
      "cell_type": "markdown",
      "source": [
        "# วิเคราะห์ข้อมูล / Data Analysis"
      ],
      "metadata": {
        "id": "V_p4AidLnfhK"
      }
    },
    {
      "cell_type": "markdown",
      "source": [
        "# 1.ตรวจสอบว่าผู้หญิงหรือผู้ชายที่ติด covid มากกว่ากันและมีจำนวนเท่าไหร่ / Stat"
      ],
      "metadata": {
        "id": "EOCn_mp_5gKt"
      }
    },
    {
      "cell_type": "code",
      "execution_count": null,
      "metadata": {
        "colab": {
          "base_uri": "https://localhost:8080/",
          "height": 365
        },
        "id": "gjgOApNGcCIr",
        "outputId": "ae21f8ba-83b3-402a-dfb9-ae5be1e9bdd3"
      },
      "outputs": [
        {
          "output_type": "stream",
          "name": "stdout",
          "text": [
            "            sex\n",
            "หญิง     348529\n",
            "ชาย      311611\n",
            "ไม่ระบุ   41818\n"
          ]
        },
        {
          "output_type": "display_data",
          "data": {
            "text/plain": [
              "<Figure size 432x288 with 1 Axes>"
            ],
            "image/png": "[encoded data removed]"
          },
          "metadata": {
            "needs_background": "light"
          }
        }
      ],
      "source": [
        "a = df['sex'].value_counts().to_frame()\n",
        "print(a)\n",
        "a['sex'].plot.bar(color = 'darkred')\n",
        "plt.grid(True, linewidth= 1, linestyle=\"--\")\n",
        "plt.xlabel('เพศ')\n",
        "plt.ylabel('จำนวน')\n",
        "plt.show()"
      ]
    },
    {
      "cell_type": "markdown",
      "source": [
        "#2.ผู้หญิงติดเชื้อมากกว่าผู้ชายกี่เปอร์เซ็นต์ / Stat"
      ],
      "metadata": {
        "id": "Cp9-4iVCk_l3"
      }
    },
    {
      "cell_type": "code",
      "source": [
        "women = df.query(\"sex == 'หญิง'\")\n",
        "count_women = women['sex'].count()\n",
        "men = df.query(\"sex == 'ชาย'\")\n",
        "count_men = men['sex'].count()\n",
        "print(f\"ผู้หญิงมีจำนวนติดเชื้อมากกว่าผู้ชาย {(((count_women-count_men)/count_men)*100):.2f}%\")"
      ],
      "metadata": {
        "colab": {
          "base_uri": "https://localhost:8080/"
        },
        "id": "0MV5L5VAlIgf",
        "outputId": "901c6e70-08ae-48ea-b7b4-df69e738df2f"
      },
      "execution_count": null,
      "outputs": [
        {
          "output_type": "stream",
          "name": "stdout",
          "text": [
            "ผู้หญิงมีจำนวนติดเชื้อมากกว่าผู้ชาย 11.85%\n"
          ]
        }
      ]
    },
    {
      "cell_type": "markdown",
      "source": [
        "#3.จำนวนผู้ติดเชื้อโดยแยกตามจังหวัด / Stat"
      ],
      "metadata": {
        "id": "bHNUuVTDlNqD"
      }
    },
    {
      "cell_type": "code",
      "source": [
        "province_df = df.groupby('province_of_onset')['No.'].count().to_frame().sort_values(by='No.',ascending=False)\n",
        "province_df"
      ],
      "metadata": {
        "colab": {
          "base_uri": "https://localhost:8080/",
          "height": 455
        },
        "id": "vbKsM-WblVIZ",
        "outputId": "ce381845-4787-46b6-d98d-74fdfd3f3920"
      },
      "execution_count": null,
      "outputs": [
        {
          "output_type": "execute_result",
          "data": {
            "text/plain": [
              "                     No.\n",
              "province_of_onset       \n",
              "กรุงเทพมหานคร      91528\n",
              "ไม่ระบุ            67240\n",
              "ชลบุรี             36736\n",
              "สมุทรปราการ        32168\n",
              "สงขลา              24253\n",
              "...                  ...\n",
              "ระนอง               1198\n",
              "อุทัยธานี           1058\n",
              "อำนาจเจริญ           860\n",
              "ต่างประเทศ             9\n",
              "กัมพูชา                8\n",
              "\n",
              "[80 rows x 1 columns]"
            ],
            "text/html": [
              "\n",
              "  <div id=\"df-80098cfc-2534-4478-ba18-c8a9c98ed276\">\n",
              "    <div class=\"colab-df-container\">\n",
              "      <div>\n",
              "<style scoped>\n",
              "    .dataframe tbody tr th:only-of-type {\n",
              "        vertical-align: middle;\n",
              "    }\n",
              "\n",
              "    .dataframe tbody tr th {\n",
              "        vertical-align: top;\n",
              "    }\n",
              "\n",
              "    .dataframe thead th {\n",
              "        text-align: right;\n",
              "    }\n",
              "</style>\n",
              "<table border=\"1\" class=\"dataframe\">\n",
              "  <thead>\n",
              "    <tr style=\"text-align: right;\">\n",
              "      <th></th>\n",
              "      <th>No.</th>\n",
              "    </tr>\n",
              "    <tr>\n",
              "      <th>province_of_onset</th>\n",
              "      <th></th>\n",
              "    </tr>\n",
              "  </thead>\n",
              "  <tbody>\n",
              "    <tr>\n",
              "      <th>กรุงเทพมหานคร</th>\n",
              "      <td>91528</td>\n",
              "    </tr>\n",
              "    <tr>\n",
              "      <th>ไม่ระบุ</th>\n",
              "      <td>67240</td>\n",
              "    </tr>\n",
              "    <tr>\n",
              "      <th>ชลบุรี</th>\n",
              "      <td>36736</td>\n",
              "    </tr>\n",
              "    <tr>\n",
              "      <th>สมุทรปราการ</th>\n",
              "      <td>32168</td>\n",
              "    </tr>\n",
              "    <tr>\n",
              "      <th>สงขลา</th>\n",
              "      <td>24253</td>\n",
              "    </tr>\n",
              "    <tr>\n",
              "      <th>...</th>\n",
              "      <td>...</td>\n",
              "    </tr>\n",
              "    <tr>\n",
              "      <th>ระนอง</th>\n",
              "      <td>1198</td>\n",
              "    </tr>\n",
              "    <tr>\n",
              "      <th>อุทัยธานี</th>\n",
              "      <td>1058</td>\n",
              "    </tr>\n",
              "    <tr>\n",
              "      <th>อำนาจเจริญ</th>\n",
              "      <td>860</td>\n",
              "    </tr>\n",
              "    <tr>\n",
              "      <th>ต่างประเทศ</th>\n",
              "      <td>9</td>\n",
              "    </tr>\n",
              "    <tr>\n",
              "      <th>กัมพูชา</th>\n",
              "      <td>8</td>\n",
              "    </tr>\n",
              "  </tbody>\n",
              "</table>\n",
              "<p>80 rows × 1 columns</p>\n",
              "</div>\n",
              "      <button class=\"colab-df-convert\" onclick=\"convertToInteractive('df-80098cfc-2534-4478-ba18-c8a9c98ed276')\"\n",
              "              title=\"Convert this dataframe to an interactive table.\"\n",
              "              style=\"display:none;\">\n",
              "        \n",
              "  <svg xmlns=\"http://www.w3.org/2000/svg\" height=\"24px\"viewBox=\"0 0 24 24\"\n",
              "       width=\"24px\">\n",
              "    <path d=\"M0 0h24v24H0V0z\" fill=\"none\"/>\n",
              "    <path d=\"M18.56 5.44l.94 2.06.94-2.06 2.06-.94-2.06-.94-.94-2.06-.94 2.06-2.06.94zm-11 1L8.5 8.5l.94-2.06 2.06-.94-2.06-.94L8.5 2.5l-.94 2.06-2.06.94zm10 10l.94 2.06.94-2.06 2.06-.94-2.06-.94-.94-2.06-.94 2.06-2.06.94z\"/><path d=\"M17.41 7.96l-1.37-1.37c-.4-.4-.92-.59-1.43-.59-.52 0-1.04.2-1.43.59L10.3 9.45l-7.72 7.72c-.78.78-.78 2.05 0 2.83L4 21.41c.39.39.9.59 1.41.59.51 0 1.02-.2 1.41-.59l7.78-7.78 2.81-2.81c.8-.78.8-2.07 0-2.86zM5.41 20L4 18.59l7.72-7.72 1.47 1.35L5.41 20z\"/>\n",
              "  </svg>\n",
              "      </button>\n",
              "      \n",
              "  <style>\n",
              "    .colab-df-container {\n",
              "      display:flex;\n",
              "      flex-wrap:wrap;\n",
              "      gap: 12px;\n",
              "    }\n",
              "\n",
              "    .colab-df-convert {\n",
              "      background-color: #E8F0FE;\n",
              "      border: none;\n",
              "      border-radius: 50%;\n",
              "      cursor: pointer;\n",
              "      display: none;\n",
              "      fill: #1967D2;\n",
              "      height: 32px;\n",
              "      padding: 0 0 0 0;\n",
              "      width: 32px;\n",
              "    }\n",
              "\n",
              "    .colab-df-convert:hover {\n",
              "      background-color: #E2EBFA;\n",
              "      box-shadow: 0px 1px 2px rgba(60, 64, 67, 0.3), 0px 1px 3px 1px rgba(60, 64, 67, 0.15);\n",
              "      fill: #174EA6;\n",
              "    }\n",
              "\n",
              "    [theme=dark] .colab-df-convert {\n",
              "      background-color: #3B4455;\n",
              "      fill: #D2E3FC;\n",
              "    }\n",
              "\n",
              "    [theme=dark] .colab-df-convert:hover {\n",
              "      background-color: #434B5C;\n",
              "      box-shadow: 0px 1px 3px 1px rgba(0, 0, 0, 0.15);\n",
              "      filter: drop-shadow(0px 1px 2px rgba(0, 0, 0, 0.3));\n",
              "      fill: #FFFFFF;\n",
              "    }\n",
              "  </style>\n",
              "\n",
              "      <script>\n",
              "        const buttonEl =\n",
              "          document.querySelector('#df-80098cfc-2534-4478-ba18-c8a9c98ed276 button.colab-df-convert');\n",
              "        buttonEl.style.display =\n",
              "          google.colab.kernel.accessAllowed ? 'block' : 'none';\n",
              "\n",
              "        async function convertToInteractive(key) {\n",
              "          const element = document.querySelector('#df-80098cfc-2534-4478-ba18-c8a9c98ed276');\n",
              "          const dataTable =\n",
              "            await google.colab.kernel.invokeFunction('convertToInteractive',\n",
              "                                                     [key], {});\n",
              "          if (!dataTable) return;\n",
              "\n",
              "          const docLinkHtml = 'Like what you see? Visit the ' +\n",
              "            '<a target=\"_blank\" href=https://colab.research.google.com/notebooks/data_table.ipynb>data table notebook</a>'\n",
              "            + ' to learn more about interactive tables.';\n",
              "          element.innerHTML = '';\n",
              "          dataTable['output_type'] = 'display_data';\n",
              "          await google.colab.output.renderOutput(dataTable, element);\n",
              "          const docLink = document.createElement('div');\n",
              "          docLink.innerHTML = docLinkHtml;\n",
              "          element.appendChild(docLink);\n",
              "        }\n",
              "      </script>\n",
              "    </div>\n",
              "  </div>\n",
              "  "
            ]
          },
          "metadata": {},
          "execution_count": 48
        }
      ]
    },
    {
      "cell_type": "markdown",
      "source": [
        "#4.การแจกแจงของอายุคนติดเชื้อโควิด(unit = ปี) / Stat"
      ],
      "metadata": {
        "id": "3i779701mAJ_"
      }
    },
    {
      "cell_type": "code",
      "source": [
        "year_unit = df.query(\"unit == 'ปี'\")\n",
        "year_unit['age'].hist(color='darkred')\n",
        "plt.grid(True, linewidth= 1, linestyle=\"--\")\n",
        "plt.xlabel('อายุปี')\n",
        "plt.ylabel('จำนวนผู้ติดเชื้อ')\n",
        "plt.show()"
      ],
      "metadata": {
        "colab": {
          "base_uri": "https://localhost:8080/",
          "height": 283
        },
        "id": "3D8JXzdPxjbR",
        "outputId": "52d16d64-be1a-44ac-c01a-eb80f16d6772"
      },
      "execution_count": null,
      "outputs": [
        {
          "output_type": "display_data",
          "data": {
            "text/plain": [
              "<Figure size 432x288 with 1 Axes>"
            ],
            "image/png": "[encoded data removed]"
          },
          "metadata": {
            "needs_background": "light"
          }
        }
      ]
    },
    {
      "cell_type": "markdown",
      "source": [
        "#5.คนที่อายุน้อยที่สุดและมากที่สุดที่ติดเชื้อ / Stat"
      ],
      "metadata": {
        "id": "MJ30kQgG1AEi"
      }
    },
    {
      "cell_type": "code",
      "source": [
        "day_unit = df.query(\"unit == 'วัน'\")\n",
        "youngest = day_unit['age'].min()\n",
        "year_unit = df.query(\"unit == 'ปี'\")\n",
        "oldest = year_unit['age'].max()\n",
        "print('คนติดเชื้อที่อายุน้อยที่สุด',youngest,'วัน')\n",
        "print('คนติดเชื้อที่อายุมากที่สุด',oldest,'ปี')"
      ],
      "metadata": {
        "colab": {
          "base_uri": "https://localhost:8080/"
        },
        "id": "pONl67rtzud7",
        "outputId": "a2b38639-10c8-4ff8-d3ae-202e56442e15"
      },
      "execution_count": null,
      "outputs": [
        {
          "output_type": "stream",
          "name": "stdout",
          "text": [
            "คนติดเชื้อที่อายุน้อยที่สุด 1 วัน\n",
            "คนติดเชื้อที่อายุมากที่สุด 112 ปี\n"
          ]
        }
      ]
    },
    {
      "cell_type": "markdown",
      "metadata": {
        "id": "k9FILLuRbqa6"
      },
      "source": [
        "# 6.คนติดเชื้อด้วยสาเหตุใดบ้างและจำนวนเท่าไหร่ / Insight"
      ]
    },
    {
      "cell_type": "code",
      "execution_count": null,
      "metadata": {
        "colab": {
          "base_uri": "https://localhost:8080/",
          "height": 1000
        },
        "id": "ouwI8mceaPD0",
        "outputId": "c3e7a5c3-35d2-4bd3-bc18-64f9bfdb2808"
      },
      "outputs": [
        {
          "output_type": "execute_result",
          "data": {
            "text/plain": [
              "                                                      risk\n",
              "สัมผัสใกล้ชิดกับผู้ป่วยยืนยันรายก่อนหน้านี้         330837\n",
              "อื่นๆ                                               221430\n",
              "อยู่ระหว่างการสอบสวน                                 48473\n",
              "ไปสถานที่ชุมชน เช่น ตลาดนัด สถานที่ท่องเที่ยว        22445\n",
              "ทัณฑสถาน/เรือนจำ                                     16598\n",
              "สถานที่ทำงาน                                         15616\n",
              "การค้นหาผู้ป่วยเชิงรุกและค้นหาผู้ติดเชื้อในชุมชน     14020\n",
              "Phuket Sandbox                                        4930\n",
              "บุคลากรด้านการแพทย์และสาธารณสุข                       4606\n",
              "Test and Go                                           3870\n",
              "สถานบันเทิง                                           3599\n",
              "ระบุไม่ได้                                            3282\n",
              "ตรวจก่อนทำหัตถการ                                     2850\n",
              "สถานศึกษา                                             2116\n",
              "ไปสถานที่แออัด เช่น งานแฟร์ คอนเสิร์ต                 1624\n",
              "พิธีกรรมทางศาสนา                                      1486\n",
              "ผู้ที่เดินทางมาจากต่างประเทศ และเข้า AQ               1169\n",
              "อาชีพเสี่ยง เช่น ทำงานในสถานที่แออัด หรือทำงานใ...    1093\n",
              "ปอดอักเสบ (Pneumonia)                                  854\n",
              "State Quarantine                                       291\n",
              "Samui plus                                             175\n",
              "Chonburi Sandbox                                       152\n",
              "สัมผัสผู้ติดเชื้อ                                       80\n",
              "คนไทยเดินทางกลับจากต่างประเทศ                           60\n",
              "คนต่างชาติเดินทางมาจากต่างประเทศ                        49\n",
              "ผู้ที่เดินทางมาจากต่างประเทศ และเข้า OQ                 41\n",
              "Phang Nga Sandbox                                       33\n",
              "BKK Sandbox                                             28\n",
              "สนามมวย                                                 23\n",
              "สัมผัสผู้ป่วยยืนยันภายในชุมชน                           17\n",
              "เดินทางมาจากพื้นที่ระบาด                                15\n",
              "ผู้ที่เดินทางมาจากต่างประเทศ และเข้า HQ/AHQ             14\n",
              "Phunga Sandbox                                          11\n",
              "Krabi Sandbox                                           11\n",
              "ศูนย์กักกัน ผู้ต้องกัก                                  10\n",
              "Karbi Sandbox                                            5\n",
              "นักกีฬา                                                  5\n",
              "Samut Prakan Sandbox                                     5\n",
              "ในพื้นที่                                                4\n",
              "Prachuap Sandbox                                         4\n",
              "เดินทางมาจากพื้นที่เสี่ยงที่มีการระบาดของโรค             3\n",
              "Samui Plus                                               3\n",
              "สัมผัสผู้เดินทางจากต่างประเทศ                            2\n",
              "Phare Sandbox                                            2\n",
              "ขอตรวจหาเชื้อเอง                                         2\n",
              "Rayong Sandbox                                           2\n",
              "Phrae Sandbox                                            1\n",
              "Udon Sandbox                                             1\n",
              "Trat sandbox                                             1\n",
              "ร่วมงานศพในหมู่บ้านทุกวัน                                1\n",
              "มีอาการ มาจาก กรุงเทพมหานคร. พนักงานร้านอาหาร            1\n",
              "สัมผัสใกล้ชิดกับผู้ป่วยยืนยันรายก่อนหน้านี้ใกล้...       1\n",
              "กลับมาจาก จ.กรุงเทพมหานคร.                               1\n",
              "ติดเชื้อในพื้นที่ (สัมผัส ผป.ยืนยัน)                     1\n",
              "สำรวจกลุ่มเสี่ยง(survey)                                 1\n",
              "prachuap Sandbox                                         1\n",
              "สถานประกอบการ                                            1\n",
              "เพื่อเฝ้าระวังเชื้อกลายพันธุ์                            1\n",
              "Krabi sandbox                                            1"
            ],
            "text/html": [
              "\n",
              "  <div id=\"df-67401f85-65ff-4f1c-844a-210e707bfde6\">\n",
              "    <div class=\"colab-df-container\">\n",
              "      <div>\n",
              "<style scoped>\n",
              "    .dataframe tbody tr th:only-of-type {\n",
              "        vertical-align: middle;\n",
              "    }\n",
              "\n",
              "    .dataframe tbody tr th {\n",
              "        vertical-align: top;\n",
              "    }\n",
              "\n",
              "    .dataframe thead th {\n",
              "        text-align: right;\n",
              "    }\n",
              "</style>\n",
              "<table border=\"1\" class=\"dataframe\">\n",
              "  <thead>\n",
              "    <tr style=\"text-align: right;\">\n",
              "      <th></th>\n",
              "      <th>risk</th>\n",
              "    </tr>\n",
              "  </thead>\n",
              "  <tbody>\n",
              "    <tr>\n",
              "      <th>สัมผัสใกล้ชิดกับผู้ป่วยยืนยันรายก่อนหน้านี้</th>\n",
              "      <td>330837</td>\n",
              "    </tr>\n",
              "    <tr>\n",
              "      <th>อื่นๆ</th>\n",
              "      <td>221430</td>\n",
              "    </tr>\n",
              "    <tr>\n",
              "      <th>อยู่ระหว่างการสอบสวน</th>\n",
              "      <td>48473</td>\n",
              "    </tr>\n",
              "    <tr>\n",
              "      <th>ไปสถานที่ชุมชน เช่น ตลาดนัด สถานที่ท่องเที่ยว</th>\n",
              "      <td>22445</td>\n",
              "    </tr>\n",
              "    <tr>\n",
              "      <th>ทัณฑสถาน/เรือนจำ</th>\n",
              "      <td>16598</td>\n",
              "    </tr>\n",
              "    <tr>\n",
              "      <th>สถานที่ทำงาน</th>\n",
              "      <td>15616</td>\n",
              "    </tr>\n",
              "    <tr>\n",
              "      <th>การค้นหาผู้ป่วยเชิงรุกและค้นหาผู้ติดเชื้อในชุมชน</th>\n",
              "      <td>14020</td>\n",
              "    </tr>\n",
              "    <tr>\n",
              "      <th>Phuket Sandbox</th>\n",
              "      <td>4930</td>\n",
              "    </tr>\n",
              "    <tr>\n",
              "      <th>บุคลากรด้านการแพทย์และสาธารณสุข</th>\n",
              "      <td>4606</td>\n",
              "    </tr>\n",
              "    <tr>\n",
              "      <th>Test and Go</th>\n",
              "      <td>3870</td>\n",
              "    </tr>\n",
              "    <tr>\n",
              "      <th>สถานบันเทิง</th>\n",
              "      <td>3599</td>\n",
              "    </tr>\n",
              "    <tr>\n",
              "      <th>ระบุไม่ได้</th>\n",
              "      <td>3282</td>\n",
              "    </tr>\n",
              "    <tr>\n",
              "      <th>ตรวจก่อนทำหัตถการ</th>\n",
              "      <td>2850</td>\n",
              "    </tr>\n",
              "    <tr>\n",
              "      <th>สถานศึกษา</th>\n",
              "      <td>2116</td>\n",
              "    </tr>\n",
              "    <tr>\n",
              "      <th>ไปสถานที่แออัด เช่น งานแฟร์ คอนเสิร์ต</th>\n",
              "      <td>1624</td>\n",
              "    </tr>\n",
              "    <tr>\n",
              "      <th>พิธีกรรมทางศาสนา</th>\n",
              "      <td>1486</td>\n",
              "    </tr>\n",
              "    <tr>\n",
              "      <th>ผู้ที่เดินทางมาจากต่างประเทศ และเข้า AQ</th>\n",
              "      <td>1169</td>\n",
              "    </tr>\n",
              "    <tr>\n",
              "      <th>อาชีพเสี่ยง เช่น ทำงานในสถานที่แออัด หรือทำงานใกล้ชิดสัมผัสชาวต่างชาติ เป็นต้น</th>\n",
              "      <td>1093</td>\n",
              "    </tr>\n",
              "    <tr>\n",
              "      <th>ปอดอักเสบ (Pneumonia)</th>\n",
              "      <td>854</td>\n",
              "    </tr>\n",
              "    <tr>\n",
              "      <th>State Quarantine</th>\n",
              "      <td>291</td>\n",
              "    </tr>\n",
              "    <tr>\n",
              "      <th>Samui plus</th>\n",
              "      <td>175</td>\n",
              "    </tr>\n",
              "    <tr>\n",
              "      <th>Chonburi Sandbox</th>\n",
              "      <td>152</td>\n",
              "    </tr>\n",
              "    <tr>\n",
              "      <th>สัมผัสผู้ติดเชื้อ</th>\n",
              "      <td>80</td>\n",
              "    </tr>\n",
              "    <tr>\n",
              "      <th>คนไทยเดินทางกลับจากต่างประเทศ</th>\n",
              "      <td>60</td>\n",
              "    </tr>\n",
              "    <tr>\n",
              "      <th>คนต่างชาติเดินทางมาจากต่างประเทศ</th>\n",
              "      <td>49</td>\n",
              "    </tr>\n",
              "    <tr>\n",
              "      <th>ผู้ที่เดินทางมาจากต่างประเทศ และเข้า OQ</th>\n",
              "      <td>41</td>\n",
              "    </tr>\n",
              "    <tr>\n",
              "      <th>Phang Nga Sandbox</th>\n",
              "      <td>33</td>\n",
              "    </tr>\n",
              "    <tr>\n",
              "      <th>BKK Sandbox</th>\n",
              "      <td>28</td>\n",
              "    </tr>\n",
              "    <tr>\n",
              "      <th>สนามมวย</th>\n",
              "      <td>23</td>\n",
              "    </tr>\n",
              "    <tr>\n",
              "      <th>สัมผัสผู้ป่วยยืนยันภายในชุมชน</th>\n",
              "      <td>17</td>\n",
              "    </tr>\n",
              "    <tr>\n",
              "      <th>เดินทางมาจากพื้นที่ระบาด</th>\n",
              "      <td>15</td>\n",
              "    </tr>\n",
              "    <tr>\n",
              "      <th>ผู้ที่เดินทางมาจากต่างประเทศ และเข้า HQ/AHQ</th>\n",
              "      <td>14</td>\n",
              "    </tr>\n",
              "    <tr>\n",
              "      <th>Phunga Sandbox</th>\n",
              "      <td>11</td>\n",
              "    </tr>\n",
              "    <tr>\n",
              "      <th>Krabi Sandbox</th>\n",
              "      <td>11</td>\n",
              "    </tr>\n",
              "    <tr>\n",
              "      <th>ศูนย์กักกัน ผู้ต้องกัก</th>\n",
              "      <td>10</td>\n",
              "    </tr>\n",
              "    <tr>\n",
              "      <th>Karbi Sandbox</th>\n",
              "      <td>5</td>\n",
              "    </tr>\n",
              "    <tr>\n",
              "      <th>นักกีฬา</th>\n",
              "      <td>5</td>\n",
              "    </tr>\n",
              "    <tr>\n",
              "      <th>Samut Prakan Sandbox</th>\n",
              "      <td>5</td>\n",
              "    </tr>\n",
              "    <tr>\n",
              "      <th>ในพื้นที่</th>\n",
              "      <td>4</td>\n",
              "    </tr>\n",
              "    <tr>\n",
              "      <th>Prachuap Sandbox</th>\n",
              "      <td>4</td>\n",
              "    </tr>\n",
              "    <tr>\n",
              "      <th>เดินทางมาจากพื้นที่เสี่ยงที่มีการระบาดของโรค</th>\n",
              "      <td>3</td>\n",
              "    </tr>\n",
              "    <tr>\n",
              "      <th>Samui Plus</th>\n",
              "      <td>3</td>\n",
              "    </tr>\n",
              "    <tr>\n",
              "      <th>สัมผัสผู้เดินทางจากต่างประเทศ</th>\n",
              "      <td>2</td>\n",
              "    </tr>\n",
              "    <tr>\n",
              "      <th>Phare Sandbox</th>\n",
              "      <td>2</td>\n",
              "    </tr>\n",
              "    <tr>\n",
              "      <th>ขอตรวจหาเชื้อเอง</th>\n",
              "      <td>2</td>\n",
              "    </tr>\n",
              "    <tr>\n",
              "      <th>Rayong Sandbox</th>\n",
              "      <td>2</td>\n",
              "    </tr>\n",
              "    <tr>\n",
              "      <th>Phrae Sandbox</th>\n",
              "      <td>1</td>\n",
              "    </tr>\n",
              "    <tr>\n",
              "      <th>Udon Sandbox</th>\n",
              "      <td>1</td>\n",
              "    </tr>\n",
              "    <tr>\n",
              "      <th>Trat sandbox</th>\n",
              "      <td>1</td>\n",
              "    </tr>\n",
              "    <tr>\n",
              "      <th>ร่วมงานศพในหมู่บ้านทุกวัน</th>\n",
              "      <td>1</td>\n",
              "    </tr>\n",
              "    <tr>\n",
              "      <th>มีอาการ มาจาก กรุงเทพมหานคร. พนักงานร้านอาหาร</th>\n",
              "      <td>1</td>\n",
              "    </tr>\n",
              "    <tr>\n",
              "      <th>สัมผัสใกล้ชิดกับผู้ป่วยยืนยันรายก่อนหน้านี้ใกล้ชิดกับผู้ป่วยยืนยันรายก่อนหน้านี้</th>\n",
              "      <td>1</td>\n",
              "    </tr>\n",
              "    <tr>\n",
              "      <th>กลับมาจาก จ.กรุงเทพมหานคร.</th>\n",
              "      <td>1</td>\n",
              "    </tr>\n",
              "    <tr>\n",
              "      <th>ติดเชื้อในพื้นที่ (สัมผัส ผป.ยืนยัน)</th>\n",
              "      <td>1</td>\n",
              "    </tr>\n",
              "    <tr>\n",
              "      <th>สำรวจกลุ่มเสี่ยง(survey)</th>\n",
              "      <td>1</td>\n",
              "    </tr>\n",
              "    <tr>\n",
              "      <th>prachuap Sandbox</th>\n",
              "      <td>1</td>\n",
              "    </tr>\n",
              "    <tr>\n",
              "      <th>สถานประกอบการ</th>\n",
              "      <td>1</td>\n",
              "    </tr>\n",
              "    <tr>\n",
              "      <th>เพื่อเฝ้าระวังเชื้อกลายพันธุ์</th>\n",
              "      <td>1</td>\n",
              "    </tr>\n",
              "    <tr>\n",
              "      <th>Krabi sandbox</th>\n",
              "      <td>1</td>\n",
              "    </tr>\n",
              "  </tbody>\n",
              "</table>\n",
              "</div>\n",
              "      <button class=\"colab-df-convert\" onclick=\"convertToInteractive('df-67401f85-65ff-4f1c-844a-210e707bfde6')\"\n",
              "              title=\"Convert this dataframe to an interactive table.\"\n",
              "              style=\"display:none;\">\n",
              "        \n",
              "  <svg xmlns=\"http://www.w3.org/2000/svg\" height=\"24px\"viewBox=\"0 0 24 24\"\n",
              "       width=\"24px\">\n",
              "    <path d=\"M0 0h24v24H0V0z\" fill=\"none\"/>\n",
              "    <path d=\"M18.56 5.44l.94 2.06.94-2.06 2.06-.94-2.06-.94-.94-2.06-.94 2.06-2.06.94zm-11 1L8.5 8.5l.94-2.06 2.06-.94-2.06-.94L8.5 2.5l-.94 2.06-2.06.94zm10 10l.94 2.06.94-2.06 2.06-.94-2.06-.94-.94-2.06-.94 2.06-2.06.94z\"/><path d=\"M17.41 7.96l-1.37-1.37c-.4-.4-.92-.59-1.43-.59-.52 0-1.04.2-1.43.59L10.3 9.45l-7.72 7.72c-.78.78-.78 2.05 0 2.83L4 21.41c.39.39.9.59 1.41.59.51 0 1.02-.2 1.41-.59l7.78-7.78 2.81-2.81c.8-.78.8-2.07 0-2.86zM5.41 20L4 18.59l7.72-7.72 1.47 1.35L5.41 20z\"/>\n",
              "  </svg>\n",
              "      </button>\n",
              "      \n",
              "  <style>\n",
              "    .colab-df-container {\n",
              "      display:flex;\n",
              "      flex-wrap:wrap;\n",
              "      gap: 12px;\n",
              "    }\n",
              "\n",
              "    .colab-df-convert {\n",
              "      background-color: #E8F0FE;\n",
              "      border: none;\n",
              "      border-radius: 50%;\n",
              "      cursor: pointer;\n",
              "      display: none;\n",
              "      fill: #1967D2;\n",
              "      height: 32px;\n",
              "      padding: 0 0 0 0;\n",
              "      width: 32px;\n",
              "    }\n",
              "\n",
              "    .colab-df-convert:hover {\n",
              "      background-color: #E2EBFA;\n",
              "      box-shadow: 0px 1px 2px rgba(60, 64, 67, 0.3), 0px 1px 3px 1px rgba(60, 64, 67, 0.15);\n",
              "      fill: #174EA6;\n",
              "    }\n",
              "\n",
              "    [theme=dark] .colab-df-convert {\n",
              "      background-color: #3B4455;\n",
              "      fill: #D2E3FC;\n",
              "    }\n",
              "\n",
              "    [theme=dark] .colab-df-convert:hover {\n",
              "      background-color: #434B5C;\n",
              "      box-shadow: 0px 1px 3px 1px rgba(0, 0, 0, 0.15);\n",
              "      filter: drop-shadow(0px 1px 2px rgba(0, 0, 0, 0.3));\n",
              "      fill: #FFFFFF;\n",
              "    }\n",
              "  </style>\n",
              "\n",
              "      <script>\n",
              "        const buttonEl =\n",
              "          document.querySelector('#df-67401f85-65ff-4f1c-844a-210e707bfde6 button.colab-df-convert');\n",
              "        buttonEl.style.display =\n",
              "          google.colab.kernel.accessAllowed ? 'block' : 'none';\n",
              "\n",
              "        async function convertToInteractive(key) {\n",
              "          const element = document.querySelector('#df-67401f85-65ff-4f1c-844a-210e707bfde6');\n",
              "          const dataTable =\n",
              "            await google.colab.kernel.invokeFunction('convertToInteractive',\n",
              "                                                     [key], {});\n",
              "          if (!dataTable) return;\n",
              "\n",
              "          const docLinkHtml = 'Like what you see? Visit the ' +\n",
              "            '<a target=\"_blank\" href=https://colab.research.google.com/notebooks/data_table.ipynb>data table notebook</a>'\n",
              "            + ' to learn more about interactive tables.';\n",
              "          element.innerHTML = '';\n",
              "          dataTable['output_type'] = 'display_data';\n",
              "          await google.colab.output.renderOutput(dataTable, element);\n",
              "          const docLink = document.createElement('div');\n",
              "          docLink.innerHTML = docLinkHtml;\n",
              "          element.appendChild(docLink);\n",
              "        }\n",
              "      </script>\n",
              "    </div>\n",
              "  </div>\n",
              "  "
            ]
          },
          "metadata": {},
          "execution_count": 44
        }
      ],
      "source": [
        "df['risk'].value_counts().to_frame()"
      ]
    },
    {
      "cell_type": "markdown",
      "source": [
        "#7.จำนวนชาวต่างชาติผู้ติดเชื้อ 5 อันดับแรก / Insight"
      ],
      "metadata": {
        "id": "FQkcOFNjlp-i"
      }
    },
    {
      "cell_type": "code",
      "source": [
        "total = df.groupby('nationality')['No.'].count().to_frame().sort_values(by='No.',ascending=False)\n",
        "s = total.query(\"nationality != 'Thailand' & nationality != 'ไม่ระบุ'\")\n",
        "print(s.head(5))\n",
        "s['No.'].head().plot.bar(color=\"darkred\")\n",
        "plt.grid(True, linewidth= 1, linestyle=\"--\")\n",
        "# พม่า, กัมพูชา, รัสเซีย, ลาว, อังกฤษ\n",
        "plt.xlabel('สัญชาติ')\n",
        "plt.ylabel('จำนวนผู้ติดเชื้อ')\n",
        "plt.show()"
      ],
      "metadata": {
        "colab": {
          "base_uri": "https://localhost:8080/",
          "height": 454
        },
        "id": "QwJoQT62lX2s",
        "outputId": "be4e71a9-b38a-4908-9bd8-a85e9c9e47f6"
      },
      "execution_count": null,
      "outputs": [
        {
          "output_type": "stream",
          "name": "stdout",
          "text": [
            "                 No.\n",
            "nationality         \n",
            "Burmese        14591\n",
            "Cambodian       4896\n",
            "Russian         2421\n",
            "Laotian / Lao   1629\n",
            "British         1344\n"
          ]
        },
        {
          "output_type": "display_data",
          "data": {
            "text/plain": [
              "<Figure size 432x288 with 1 Axes>"
            ],
            "image/png": "[encoded data removed]"
          },
          "metadata": {
            "needs_background": "light"
          }
        }
      ]
    },
    {
      "cell_type": "markdown",
      "source": [
        "#8.กรุงเทพมหานครมีจำนวนผู้ติดเชื้อเท่าไหร่โดยแยกตามเพศ / Insight"
      ],
      "metadata": {
        "id": "WimwAQiumNzE"
      }
    },
    {
      "cell_type": "code",
      "source": [
        "# mydf = df[df.province_of_isolation == 'กรุงเทพมหานคร']\n",
        "totalsex = df.groupby('sex').count()\n",
        "b = totalsex['No.'].to_frame()\n",
        "print(b)\n",
        "mydf = df.query('province_of_isolation == \"กรุงเทพมหานคร\"')\n",
        "mydf.groupby('sex').count()['province_of_isolation'].plot.bar(color='darkred')\n",
        "plt.ylabel('จำนวนผู้ติดเชื้อ')\n",
        "plt.xlabel('เพศ')\n",
        "plt.grid(True, linewidth= 1, linestyle=\"--\")\n",
        "plt.show()"
      ],
      "metadata": {
        "colab": {
          "base_uri": "https://localhost:8080/",
          "height": 382
        },
        "id": "pbxp_1rRl6vO",
        "outputId": "f27aff52-50cc-48fd-e4a3-a6d3747210a2"
      },
      "execution_count": null,
      "outputs": [
        {
          "output_type": "stream",
          "name": "stdout",
          "text": [
            "            No.\n",
            "sex            \n",
            "ชาย      311611\n",
            "หญิง     348529\n",
            "ไม่ระบุ   41818\n"
          ]
        },
        {
          "output_type": "display_data",
          "data": {
            "text/plain": [
              "<Figure size 432x288 with 1 Axes>"
            ],
            "image/png": "[encoded data removed]"
          },
          "metadata": {
            "needs_background": "light"
          }
        }
      ]
    },
    {
      "cell_type": "markdown",
      "source": [
        "#9. แนวโน้มการติดเชื้อ / Insight"
      ],
      "metadata": {
        "id": "xUJbiyf8mZZW"
      }
    },
    {
      "cell_type": "code",
      "source": [
        "a = df.groupby('announce_date').count().sort_values(by='announce_date')\n",
        "a['No.'].plot.line(figsize=(15, 5), linewidth = 3, color = 'darkred')\n",
        "plt.grid(True, linewidth= 1, linestyle=\"--\")\n",
        "plt.title('แนวโน้มการติดเชื้อตั้งแต่วันที่ 26/10/2021 ถึง 11/02/2022')\n",
        "plt.xlabel('เดือน')\n",
        "plt.ylabel('จำนวนผู้ติดเชื้อ')\n",
        "plt.show()"
      ],
      "metadata": {
        "colab": {
          "base_uri": "https://localhost:8080/",
          "height": 361
        },
        "id": "9-Ljx3uMmZFN",
        "outputId": "243372b2-d2a6-47ac-f9d2-d7d9e0a3f1cd"
      },
      "execution_count": null,
      "outputs": [
        {
          "output_type": "display_data",
          "data": {
            "text/plain": [
              "<Figure size 1080x360 with 1 Axes>"
            ],
            "image/png": "[encoded data removed]"
          },
          "metadata": {
            "needs_background": "light"
          }
        }
      ]
    }
  ],
  "metadata": {
    "colab": {
      "collapsed_sections": [
        "V_p4AidLnfhK"
      ],
      "name": "DADS5001_Chawit.ipynb",
      "provenance": [],
      "authorship_tag": "ABX9TyNdZCoSRdCP2uJHkRyMRT69",
      "include_colab_link": true
    },
    "kernelspec": {
      "display_name": "Python 3",
      "name": "python3"
    },
    "language_info": {
      "name": "python"
    }
  },
  "nbformat": 4,
  "nbformat_minor": 0
}